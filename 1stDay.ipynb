{
 "cells": [
  {
   "cell_type": "code",
   "execution_count": 1,
   "id": "7354464c-70dd-4b63-bbf7-1e4da0b1c549",
   "metadata": {},
   "outputs": [],
   "source": [
    "import numpy as np"
   ]
  },
  {
   "cell_type": "code",
   "execution_count": 2,
   "id": "79387565-fa16-4bf7-9f35-92db3db6bb38",
   "metadata": {},
   "outputs": [
    {
     "name": "stdout",
     "output_type": "stream",
     "text": [
      "[1 2 3 4 5 6 7]\n"
     ]
    }
   ],
   "source": [
    "x=np.array([1,2,3,4,5,6,7])\n",
    "print(x)"
   ]
  },
  {
   "cell_type": "code",
   "execution_count": 3,
   "id": "ee460b46-f5f3-4170-a484-af44d5b5a846",
   "metadata": {},
   "outputs": [
    {
     "data": {
      "text/plain": [
       "array([[1, 2, 3],\n",
       "       [4, 5, 6]])"
      ]
     },
     "execution_count": 3,
     "metadata": {},
     "output_type": "execute_result"
    }
   ],
   "source": [
    "y=np.array([[1,2,3],[4,5,6]])\n",
    "y"
   ]
  },
  {
   "cell_type": "code",
   "execution_count": 4,
   "id": "6f1a8223-69b5-45a4-9420-3d85b6c77c78",
   "metadata": {},
   "outputs": [
    {
     "name": "stdout",
     "output_type": "stream",
     "text": [
      "[[1 2 3]\n",
      " [4 5 6]]\n"
     ]
    }
   ],
   "source": [
    "print(y)"
   ]
  },
  {
   "cell_type": "code",
   "execution_count": 5,
   "id": "3e68496b-5264-4837-9e75-6a8fc95d75d7",
   "metadata": {},
   "outputs": [
    {
     "data": {
      "text/plain": [
       "(2, 3)"
      ]
     },
     "execution_count": 5,
     "metadata": {},
     "output_type": "execute_result"
    }
   ],
   "source": [
    "y.shape"
   ]
  },
  {
   "cell_type": "code",
   "execution_count": 10,
   "id": "7f073f2a-de1d-42ab-9c7f-8dce857dbb05",
   "metadata": {},
   "outputs": [],
   "source": [
    "z=np.array([1,2,3,4,5,6,7,8],dtype='int64')"
   ]
  },
  {
   "cell_type": "code",
   "execution_count": 7,
   "id": "d1f984ac-a023-4578-b2b3-46a091f2c384",
   "metadata": {},
   "outputs": [
    {
     "data": {
      "text/plain": [
       "array([1.+0.j, 2.+0.j, 3.+0.j, 4.+0.j, 5.+0.j, 6.+0.j, 7.+0.j, 8.+0.j])"
      ]
     },
     "execution_count": 7,
     "metadata": {},
     "output_type": "execute_result"
    }
   ],
   "source": [
    "z"
   ]
  },
  {
   "cell_type": "code",
   "execution_count": 11,
   "id": "3ec400b6-cb10-4134-8cde-2d7a732df9f7",
   "metadata": {},
   "outputs": [
    {
     "data": {
      "text/plain": [
       "(8,)"
      ]
     },
     "execution_count": 11,
     "metadata": {},
     "output_type": "execute_result"
    }
   ],
   "source": [
    "z.strides"
   ]
  },
  {
   "cell_type": "code",
   "execution_count": 9,
   "id": "d0359efc-c5cd-4520-b54a-1789c55d4c50",
   "metadata": {},
   "outputs": [
    {
     "data": {
      "text/plain": [
       "(12, 4)"
      ]
     },
     "execution_count": 9,
     "metadata": {},
     "output_type": "execute_result"
    }
   ],
   "source": [
    "y.strides"
   ]
  },
  {
   "cell_type": "markdown",
   "id": "c3dbb151-a2d7-48fc-bebc-fd54cd77590e",
   "metadata": {},
   "source": [
    "# Row major and column major"
   ]
  },
  {
   "cell_type": "code",
   "execution_count": 19,
   "id": "4e59f6c7-0e1b-4ea1-a7b3-cf40318feea0",
   "metadata": {},
   "outputs": [
    {
     "name": "stdout",
     "output_type": "stream",
     "text": [
      "[[1 2 3]\n",
      " [4 5 6]]\n"
     ]
    },
    {
     "data": {
      "text/plain": [
       "(4, 8)"
      ]
     },
     "execution_count": 19,
     "metadata": {},
     "output_type": "execute_result"
    }
   ],
   "source": [
    "a=np.array([[1,2,3],[4,5,6]],order='F')#column major\n",
    "           \n",
    "print(a)\n",
    "a.strides\n"
   ]
  },
  {
   "cell_type": "code",
   "execution_count": 20,
   "id": "8be292fb-886b-45f6-8d16-ac4a628181df",
   "metadata": {},
   "outputs": [
    {
     "name": "stdout",
     "output_type": "stream",
     "text": [
      "[[1 2 3]\n",
      " [4 5 6]]\n"
     ]
    },
    {
     "data": {
      "text/plain": [
       "(12, 4)"
      ]
     },
     "execution_count": 20,
     "metadata": {},
     "output_type": "execute_result"
    }
   ],
   "source": [
    "a=np.array([[1,2,3],[4,5,6]])#Row major\n",
    "print(a)\n",
    "a.strides#For memory accessing"
   ]
  },
  {
   "cell_type": "markdown",
   "id": "bb42416c-c133-4faa-add8-beef78ed36ff",
   "metadata": {},
   "source": [
    " **Row major =[1,2,3,4,5,6]. Column major = [1,4,2,5,3,6]**"
   ]
  },
  {
   "cell_type": "code",
   "execution_count": 22,
   "id": "bfee2d76-70a8-4d77-875f-9905f8e1ca7d",
   "metadata": {},
   "outputs": [
    {
     "data": {
      "text/plain": [
       "dtype('int32')"
      ]
     },
     "execution_count": 22,
     "metadata": {},
     "output_type": "execute_result"
    }
   ],
   "source": [
    "np.dtype(np.int32)"
   ]
  },
  {
   "cell_type": "code",
   "execution_count": 28,
   "id": "de3c3694-e25d-40f6-b7bc-5b873f720904",
   "metadata": {},
   "outputs": [
    {
     "data": {
      "text/plain": [
       "array([1., 2., 3., 4., 5.])"
      ]
     },
     "execution_count": 28,
     "metadata": {},
     "output_type": "execute_result"
    }
   ],
   "source": [
    "arr=np.array([1,2,3,4,5],dtype='float')\n",
    "arr"
   ]
  },
  {
   "cell_type": "code",
   "execution_count": 31,
   "id": "f61d6abb-d7b9-45fe-9312-36226383de33",
   "metadata": {},
   "outputs": [
    {
     "data": {
      "text/plain": [
       "array([[0, 0],\n",
       "       [0, 0],\n",
       "       [0, 0],\n",
       "       [0, 0],\n",
       "       [0, 0]], dtype=int64)"
      ]
     },
     "execution_count": 31,
     "metadata": {},
     "output_type": "execute_result"
    }
   ],
   "source": [
    "zero=np.zeros((5,2),dtype='int64')\n",
    "zero"
   ]
  },
  {
   "cell_type": "code",
   "execution_count": 33,
   "id": "05046f0e-2d39-449c-9a11-9212a2a98ae8",
   "metadata": {},
   "outputs": [
    {
     "data": {
      "text/plain": [
       "array([[1, 1, 1],\n",
       "       [1, 1, 1],\n",
       "       [1, 1, 1]])"
      ]
     },
     "execution_count": 33,
     "metadata": {},
     "output_type": "execute_result"
    }
   ],
   "source": [
    "one=np.ones((3,3),dtype=int,order='F')\n",
    "one"
   ]
  },
  {
   "cell_type": "code",
   "execution_count": 34,
   "id": "6401ea4d-1053-4c02-93e6-5dfef6de3a6c",
   "metadata": {},
   "outputs": [
    {
     "data": {
      "text/plain": [
       "array([[1, 1, 1],\n",
       "       [1, 1, 1],\n",
       "       [1, 1, 1]])"
      ]
     },
     "execution_count": 34,
     "metadata": {},
     "output_type": "execute_result"
    }
   ],
   "source": [
    "one=np.ones((3,3),dtype=int,order='C')\n",
    "one"
   ]
  },
  {
   "cell_type": "code",
   "execution_count": 35,
   "id": "eea74a18-63b8-418c-b4cf-7567da195f1f",
   "metadata": {},
   "outputs": [
    {
     "data": {
      "text/plain": [
       "array([0, 1, 2, 3, 4, 5, 6, 7, 8, 9])"
      ]
     },
     "execution_count": 35,
     "metadata": {},
     "output_type": "execute_result"
    }
   ],
   "source": [
    "np.arange(10)"
   ]
  },
  {
   "cell_type": "code",
   "execution_count": 36,
   "id": "ae0bce9c-67c8-4738-ad81-1024eadd9f66",
   "metadata": {},
   "outputs": [
    {
     "data": {
      "text/plain": [
       "array([20, 18, 16, 14, 12])"
      ]
     },
     "execution_count": 36,
     "metadata": {},
     "output_type": "execute_result"
    }
   ],
   "source": [
    "np.arange(20,10,-2)"
   ]
  },
  {
   "cell_type": "code",
   "execution_count": 37,
   "id": "26b03763-ee6e-4cb5-a9de-a8a63395b049",
   "metadata": {},
   "outputs": [
    {
     "data": {
      "text/plain": [
       "array([[0, 1, 2, 3, 4],\n",
       "       [5, 6, 7, 8, 9]])"
      ]
     },
     "execution_count": 37,
     "metadata": {},
     "output_type": "execute_result"
    }
   ],
   "source": [
    "np.arange(10).reshape(2,5)"
   ]
  },
  {
   "cell_type": "code",
   "execution_count": 38,
   "id": "2cfe23dd-6e73-401b-9656-c00f5a1e25f1",
   "metadata": {},
   "outputs": [
    {
     "data": {
      "text/plain": [
       "array([[0, 1],\n",
       "       [2, 3],\n",
       "       [4, 5],\n",
       "       [6, 7],\n",
       "       [8, 9]])"
      ]
     },
     "execution_count": 38,
     "metadata": {},
     "output_type": "execute_result"
    }
   ],
   "source": [
    "np.arange(10).reshape(5,2)"
   ]
  },
  {
   "cell_type": "code",
   "execution_count": null,
   "id": "ce915908-c134-4e11-869f-8cf21ede2959",
   "metadata": {},
   "outputs": [],
   "source": []
  }
 ],
 "metadata": {
  "kernelspec": {
   "display_name": "Python 3 (ipykernel)",
   "language": "python",
   "name": "python3"
  },
  "language_info": {
   "codemirror_mode": {
    "name": "ipython",
    "version": 3
   },
   "file_extension": ".py",
   "mimetype": "text/x-python",
   "name": "python",
   "nbconvert_exporter": "python",
   "pygments_lexer": "ipython3",
   "version": "3.12.3"
  }
 },
 "nbformat": 4,
 "nbformat_minor": 5
}
