{
 "cells": [
  {
   "cell_type": "code",
   "execution_count": 1,
   "id": "33ce2ce1-4071-4a66-8aad-138a93f6b734",
   "metadata": {},
   "outputs": [],
   "source": [
    "import numpy as np"
   ]
  },
  {
   "cell_type": "code",
   "execution_count": 3,
   "id": "5f4cb39f-97d2-4006-b5e1-02a8650fa83e",
   "metadata": {},
   "outputs": [],
   "source": [
    "arr1=np.array([[1,2,3],[4,5,6]])"
   ]
  },
  {
   "cell_type": "code",
   "execution_count": 4,
   "id": "c774f7c9-71c3-46b3-97b0-648d95a26442",
   "metadata": {},
   "outputs": [
    {
     "data": {
      "text/plain": [
       "array([[1, 2, 3],\n",
       "       [4, 5, 6]])"
      ]
     },
     "execution_count": 4,
     "metadata": {},
     "output_type": "execute_result"
    }
   ],
   "source": [
    "arr1"
   ]
  },
  {
   "cell_type": "code",
   "execution_count": 5,
   "id": "083f6954-bda1-4789-a82e-4a8662a4bbfc",
   "metadata": {},
   "outputs": [],
   "source": [
    "arr2=np.array([[7,8,9],[10,11,12]])"
   ]
  },
  {
   "cell_type": "code",
   "execution_count": 6,
   "id": "4bf0923d-4462-40f2-9a3a-7d9983512e37",
   "metadata": {},
   "outputs": [
    {
     "data": {
      "text/plain": [
       "array([[ 7,  8,  9],\n",
       "       [10, 11, 12]])"
      ]
     },
     "execution_count": 6,
     "metadata": {},
     "output_type": "execute_result"
    }
   ],
   "source": [
    "arr2"
   ]
  },
  {
   "cell_type": "code",
   "execution_count": 7,
   "id": "5eb06343-b669-4229-8cd6-0ddb26e84afd",
   "metadata": {},
   "outputs": [],
   "source": [
    "arr=np.concatenate((arr1,arr2),axis=0)"
   ]
  },
  {
   "cell_type": "code",
   "execution_count": 8,
   "id": "1e247f7b-0abf-406c-ac25-098f96b342d9",
   "metadata": {},
   "outputs": [
    {
     "data": {
      "text/plain": [
       "array([[ 1,  2,  3],\n",
       "       [ 4,  5,  6],\n",
       "       [ 7,  8,  9],\n",
       "       [10, 11, 12]])"
      ]
     },
     "execution_count": 8,
     "metadata": {},
     "output_type": "execute_result"
    }
   ],
   "source": [
    "arr"
   ]
  },
  {
   "cell_type": "code",
   "execution_count": 25,
   "id": "4ab84e9a-8433-483b-901f-c2d8898a7f99",
   "metadata": {},
   "outputs": [
    {
     "name": "stdout",
     "output_type": "stream",
     "text": [
      "Concatenated Array along rows:\n",
      " [[ 1  2  3  7  8  9]\n",
      " [ 4  5  6 10 11 12]]\n"
     ]
    }
   ],
   "source": [
    "import numpy as np\n",
    "\n",
    "arr1 = np.array([[1, 2, 3],\n",
    "                 [4, 5, 6]])\n",
    "\n",
    "arr2 = np.array([[7, 8, 9],\n",
    "                 [10, 11, 12]])\n",
    "\n",
    "# Concatenate along rows\n",
    "concatenated_arr = np.concatenate((arr1, arr2), axis=1)\n",
    "print(\"Concatenated Array along rows:\\n\",concatenated_arr)"
   ]
  },
  {
   "cell_type": "code",
   "execution_count": 11,
   "id": "6e107c18-a923-4b7c-9068-0ae21d68ad02",
   "metadata": {},
   "outputs": [],
   "source": [
    "arrry=np.concatenate((arr1,arr2))"
   ]
  },
  {
   "cell_type": "code",
   "execution_count": 13,
   "id": "d1addfe1-bb20-4bdc-94c3-38c32de63115",
   "metadata": {},
   "outputs": [
    {
     "data": {
      "text/plain": [
       "array([[ 1,  2,  3],\n",
       "       [ 4,  5,  6],\n",
       "       [ 7,  8,  9],\n",
       "       [10, 11, 12]])"
      ]
     },
     "execution_count": 13,
     "metadata": {},
     "output_type": "execute_result"
    }
   ],
   "source": [
    "arrry"
   ]
  },
  {
   "cell_type": "code",
   "execution_count": 14,
   "id": "906d74f7-c40b-40e7-a421-42832aed13a6",
   "metadata": {},
   "outputs": [
    {
     "data": {
      "text/plain": [
       "array([0, 1, 2, 3, 4, 5, 6, 7, 8, 9])"
      ]
     },
     "execution_count": 14,
     "metadata": {},
     "output_type": "execute_result"
    }
   ],
   "source": [
    "np.arange(10)"
   ]
  },
  {
   "cell_type": "code",
   "execution_count": 15,
   "id": "74763245-06b3-4257-9197-a72f10799103",
   "metadata": {},
   "outputs": [],
   "source": [
    "import numpy as np"
   ]
  },
  {
   "cell_type": "code",
   "execution_count": 16,
   "id": "1325bd5b-0e2d-4ede-ab64-aa81e6845e81",
   "metadata": {},
   "outputs": [
    {
     "data": {
      "text/plain": [
       "0.5124079179709872"
      ]
     },
     "execution_count": 16,
     "metadata": {},
     "output_type": "execute_result"
    }
   ],
   "source": [
    "np.random.rand()"
   ]
  },
  {
   "cell_type": "code",
   "execution_count": 17,
   "id": "5bc7cefa-b294-48d2-9fab-972f2b123889",
   "metadata": {},
   "outputs": [
    {
     "data": {
      "text/plain": [
       "array([0.26823711, 0.75924786, 0.2490486 , 0.55193766, 0.22737403])"
      ]
     },
     "execution_count": 17,
     "metadata": {},
     "output_type": "execute_result"
    }
   ],
   "source": [
    "np.random.rand(5)"
   ]
  },
  {
   "cell_type": "code",
   "execution_count": 18,
   "id": "50f025b3-13b4-4423-a6a3-09facc135b4e",
   "metadata": {},
   "outputs": [
    {
     "data": {
      "text/plain": [
       "array([[0.68635937, 0.3133285 , 0.68566049],\n",
       "       [0.60215061, 0.06685217, 0.88442434],\n",
       "       [0.08193562, 0.50692974, 0.2084525 ],\n",
       "       [0.38747876, 0.95779786, 0.09954404],\n",
       "       [0.83284538, 0.22868895, 0.03558996]])"
      ]
     },
     "execution_count": 18,
     "metadata": {},
     "output_type": "execute_result"
    }
   ],
   "source": [
    "np.random.rand(5,3)"
   ]
  },
  {
   "cell_type": "code",
   "execution_count": 19,
   "id": "dda850d2-ffc5-4fdf-93f3-52860318d995",
   "metadata": {},
   "outputs": [
    {
     "data": {
      "text/plain": [
       "array([[[0.56240864, 0.99357321],\n",
       "        [0.7398875 , 0.22533877],\n",
       "        [0.39687021, 0.92993717]],\n",
       "\n",
       "       [[0.13609432, 0.03776173],\n",
       "        [0.72115198, 0.00731711],\n",
       "        [0.9482068 , 0.64346954]],\n",
       "\n",
       "       [[0.43062933, 0.19089613],\n",
       "        [0.90553914, 0.62323807],\n",
       "        [0.83609609, 0.15621385]],\n",
       "\n",
       "       [[0.63186758, 0.00442718],\n",
       "        [0.75736647, 0.42891995],\n",
       "        [0.00101801, 0.79313953]],\n",
       "\n",
       "       [[0.03128621, 0.46950375],\n",
       "        [0.43858992, 0.67875982],\n",
       "        [0.86713047, 0.37008123]]])"
      ]
     },
     "execution_count": 19,
     "metadata": {},
     "output_type": "execute_result"
    }
   ],
   "source": [
    "np.random.rand(5,3,2)"
   ]
  },
  {
   "cell_type": "code",
   "execution_count": 20,
   "id": "c41b5d68-ca75-48a4-8acf-72a3b76e01f8",
   "metadata": {},
   "outputs": [
    {
     "data": {
      "text/plain": [
       "array([0, 1, 2, 3, 4, 5, 6, 7, 8, 9])"
      ]
     },
     "execution_count": 20,
     "metadata": {},
     "output_type": "execute_result"
    }
   ],
   "source": [
    "np.arange(10)"
   ]
  },
  {
   "cell_type": "code",
   "execution_count": 21,
   "id": "171624fa-6f2a-4cad-b7b7-6097066aeb24",
   "metadata": {},
   "outputs": [
    {
     "data": {
      "text/plain": [
       "array([0.        , 0.55555556, 1.11111111, 1.66666667, 2.22222222,\n",
       "       2.77777778, 3.33333333, 3.88888889, 4.44444444, 5.        ])"
      ]
     },
     "execution_count": 21,
     "metadata": {},
     "output_type": "execute_result"
    }
   ],
   "source": [
    "np.linspace(0,5,10)"
   ]
  },
  {
   "cell_type": "code",
   "execution_count": 22,
   "id": "56c851b4-7690-4e53-9d3d-334cba2ea5de",
   "metadata": {},
   "outputs": [
    {
     "data": {
      "text/plain": [
       "array([ 0., 10., 20., 30., 40., 50., 60., 70., 80., 90.])"
      ]
     },
     "execution_count": 22,
     "metadata": {},
     "output_type": "execute_result"
    }
   ],
   "source": [
    "np.linspace(0,90,10)"
   ]
  },
  {
   "cell_type": "code",
   "execution_count": 26,
   "id": "ce4848c3-5e77-42d2-aa3b-06cec9ec8725",
   "metadata": {},
   "outputs": [
    {
     "name": "stdout",
     "output_type": "stream",
     "text": [
      "Concatenated Array along rows:\n",
      " [[ 1  2  3  7  8  9]\n",
      " [ 4  5  6 10 11 12]]\n"
     ]
    }
   ],
   "source": [
    "import numpy as np\n",
    "\n",
    "arr1 = np.array([[1, 2, 3],\n",
    "                 [4, 5, 6]])\n",
    "\n",
    "arr2 = np.array([[7, 8, 9],\n",
    "                 [10, 11, 12]])\n",
    "\n",
    "# Concatenate along rows\n",
    "concatenated_arr = np.concatenate((arr1, arr2), axis=1)\n",
    "print(\"Concatenated Array along rows:\\n\",concatenated_arr)"
   ]
  },
  {
   "cell_type": "code",
   "execution_count": 29,
   "id": "21d8b38c-3ef5-4af0-b544-94054ccc4162",
   "metadata": {},
   "outputs": [
    {
     "name": "stdout",
     "output_type": "stream",
     "text": [
      "Reshaped Array: [1 2 3 4 5 6]\n"
     ]
    }
   ],
   "source": [
    "import numpy as np\n",
    "\n",
    "# Original 2-D array\n",
    "arr = np.array([[1, 2, 3], [4, 5, 6]])\n",
    "\n",
    "# Reshape to 1-D array\n",
    "reshaped_arr = arr.reshape(-1)\n",
    "print(\"Reshaped Array:\", reshaped_arr)"
   ]
  },
  {
   "cell_type": "code",
   "execution_count": 30,
   "id": "443fbbed-3908-4854-9a44-ddcbff32233c",
   "metadata": {},
   "outputs": [
    {
     "name": "stdout",
     "output_type": "stream",
     "text": [
      "[[80 80 80]\n",
      " [80 80 80]]\n"
     ]
    }
   ],
   "source": [
    "import numpy as np\n",
    "\n",
    "array1 = np.full((2, 3),80)\n",
    "print(array1)"
   ]
  },
  {
   "cell_type": "code",
   "execution_count": 31,
   "id": "3355cb8a-a329-4538-b007-b94d5b76b7d7",
   "metadata": {},
   "outputs": [
    {
     "data": {
      "text/plain": [
       "array([[100, 100, 100],\n",
       "       [100, 100, 100],\n",
       "       [100, 100, 100],\n",
       "       [100, 100, 100],\n",
       "       [100, 100, 100]])"
      ]
     },
     "execution_count": 31,
     "metadata": {},
     "output_type": "execute_result"
    }
   ],
   "source": [
    "arr2=np.full((5,3),100)\n",
    "arr2"
   ]
  },
  {
   "cell_type": "code",
   "execution_count": 32,
   "id": "b541177a-6382-4ea9-8f9a-83dbc0dcf36a",
   "metadata": {},
   "outputs": [
    {
     "name": "stdout",
     "output_type": "stream",
     "text": [
      "Array from list: [1 2 3 4 5]\n"
     ]
    }
   ],
   "source": [
    "import numpy as np\n",
    "\n",
    "# Convert list to array\n",
    "my_list = [1, 2, 3, 4, 5]\n",
    "arr_from_list = np.array(my_list)\n",
    "\n",
    "print(\"Array from list:\",arr_from_list)"
   ]
  },
  {
   "cell_type": "code",
   "execution_count": null,
   "id": "fd7a76fa-ca13-4439-b830-6905d28f8578",
   "metadata": {},
   "outputs": [],
   "source": []
  }
 ],
 "metadata": {
  "kernelspec": {
   "display_name": "Python 3 (ipykernel)",
   "language": "python",
   "name": "python3"
  },
  "language_info": {
   "codemirror_mode": {
    "name": "ipython",
    "version": 3
   },
   "file_extension": ".py",
   "mimetype": "text/x-python",
   "name": "python",
   "nbconvert_exporter": "python",
   "pygments_lexer": "ipython3",
   "version": "3.12.3"
  }
 },
 "nbformat": 4,
 "nbformat_minor": 5
}
