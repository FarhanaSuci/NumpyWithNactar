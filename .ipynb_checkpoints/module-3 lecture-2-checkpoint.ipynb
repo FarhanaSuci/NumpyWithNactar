{
 "cells": [
  {
   "cell_type": "code",
   "execution_count": 10,
   "id": "f6d01eb9-80fe-44f0-a9d8-c8d0c0ac14ff",
   "metadata": {},
   "outputs": [
    {
     "name": "stdout",
     "output_type": "stream",
     "text": [
      "array1: [0 1 2 3 4 5 6 7 8 9]\n",
      "array2: [1 3 5 7 9]\n"
     ]
    }
   ],
   "source": [
    "import numpy as np\n",
    "\n",
    "# Providing just the stop value\n",
    "array1 = np.arange(10)\n",
    "print(\"array1:\", array1)\n",
    "\n",
    "# Providing start, stop and step value\n",
    "array2 = np.arange(1, 10, 2)\n",
    "print(\"array2:\",array2)"
   ]
  },
  {
   "cell_type": "markdown",
   "id": "a8e82523-ba61-4844-b3f1-08f8716681f5",
   "metadata": {},
   "source": [
    "numpy.linspace(start, stop, num=50, endpoint=True, dtype=None, axis=0)"
   ]
  },
  {
   "cell_type": "code",
   "execution_count": 20,
   "id": "479861df-c703-40f8-a5e2-238f2269b0ae",
   "metadata": {},
   "outputs": [
    {
     "name": "stdout",
     "output_type": "stream",
     "text": [
      "array1: [0.  0.6 1.1 1.7 2.2 2.8 3.3 3.9 4.4 5. ]\n",
      "array2: [1.  1.2 1.4 1.6 1.8]\n",
      "array3: [ 0.   2.5  5.   7.5 10. ]\n",
      "Step size: 2.5\n"
     ]
    }
   ],
   "source": [
    "import numpy as np\n",
    "\n",
    "# Creating an array of 10 evenly spaced values from 0 to 5\n",
    "array1 = np.linspace(0, 5, num=10)\n",
    "print(\"array1:\",array1)\n",
    "\n",
    "\n",
    "# Creating an array with 5 values from 1 to 2, excluding the endpoint\n",
    "array2 = np.linspace(1, 2, num=5, endpoint=False)\n",
    "print(\"array2:\",array2)\n",
    "\n",
    "# Creating an array and returning the step value\n",
    "array3, step = np.linspace(0, 10, num=5, retstep=True)\n",
    "print(\"array3:\",array3)\n",
    "print(\"Step size:\", step)"
   ]
  },
  {
   "cell_type": "code",
   "execution_count": 16,
   "id": "262bd237-0f80-4796-acb2-85a98cab696a",
   "metadata": {},
   "outputs": [
    {
     "name": "stdout",
     "output_type": "stream",
     "text": [
      "array1: [0.  0.6 1.1 1.7 2.2 2.8 3.3 3.9 4.4 5. ]\n"
     ]
    }
   ],
   "source": [
    "import numpy as np\n",
    "\n",
    "# Set print options to display one decimal place\n",
    "np.set_printoptions(precision=1)\n",
    "\n",
    "# Creating an array of 10 evenly spaced values from 0 to 5\n",
    "array1 = np.linspace(0, 5, num=10)\n",
    "print(\"array1:\", array1)\n"
   ]
  },
  {
   "cell_type": "markdown",
   "id": "55219249-5bcf-493c-98fa-808fae16fe61",
   "metadata": {},
   "source": [
    "numpy.random.rand(d0, d1, ..., dn)\n",
    "[0,1]"
   ]
  },
  {
   "cell_type": "code",
   "execution_count": 43,
   "id": "d1ac6064-c0de-4231-a080-7c900e95a4d6",
   "metadata": {},
   "outputs": [
    {
     "name": "stdout",
     "output_type": "stream",
     "text": [
      "random_float: 0.7238600217350462\n",
      "array_1d: [0.2 0.6 0.  0.7 0.3]\n",
      "array_2d: [[0.6 0.5 0.9]\n",
      " [0.  0.9 0.2]]\n",
      "array_3d: [[[0.2 0.7 0.2 0.8]\n",
      "  [0.2 1.  0.8 0.1]\n",
      "  [0.6 0.4 0.8 0.2]]\n",
      "\n",
      " [[0.6 0.2 1.  0.8]\n",
      "  [0.4 0.9 0.4 0.7]\n",
      "  [0.3 1.  0.4 0.7]]]\n"
     ]
    }
   ],
   "source": [
    "import numpy as np\n",
    "\n",
    "# Generating a single random float\n",
    "random_float = np.random.rand()\n",
    "print(\"random_float:\",random_float)\n",
    "\n",
    "# Generating a 1D array of random floats\n",
    "array_1d = np.random.rand(5)\n",
    "print(\"array_1d:\",array_1d)\n",
    "\n",
    "# Generating a 2D array of random floats\n",
    "array_2d = np.random.rand(2, 3)\n",
    "print(\"array_2d:\",array_2d)\n",
    "\n",
    "# Generating a 3D array of random floats\n",
    "array_3d = np.random.rand(2, 3, 4)\n",
    "print(\"array_3d:\",array_3d)"
   ]
  },
  {
   "cell_type": "markdown",
   "id": "8c335c22-630c-475f-b043-c385c89d69dc",
   "metadata": {},
   "source": [
    "numpy.full(shape, fill_value, dtype=None, order='F')"
   ]
  },
  {
   "cell_type": "code",
   "execution_count": 59,
   "id": "16032e07-6064-46a5-92a4-c84e5f93d426",
   "metadata": {},
   "outputs": [
    {
     "name": "stdout",
     "output_type": "stream",
     "text": [
      "[[80 80 80]\n",
      " [80 80 80]]\n"
     ]
    }
   ],
   "source": [
    "import numpy as np\n",
    "\n",
    "array1 = np.full((2, 3),80, order='F')\n",
    "print(array1)"
   ]
  },
  {
   "cell_type": "markdown",
   "id": "315f1300-37ea-4fd8-ba38-8c1d10d81fac",
   "metadata": {},
   "source": [
    "1.asarry()\n",
    "2.frombuffer()\n",
    "3. fromiter()\n",
    "4.from list\n",
    "5. nestedlist\n",
    "6.tuples\n",
    "7. existing array \n",
    "8. range object "
   ]
  },
  {
   "cell_type": "code",
   "execution_count": 61,
   "id": "965944ae-9eb3-4493-93ea-5c97425f4ce9",
   "metadata": {},
   "outputs": [
    {
     "name": "stdout",
     "output_type": "stream",
     "text": [
      "Array from list: [1 2 3 4 5]\n"
     ]
    }
   ],
   "source": [
    "import numpy as np\n",
    "\n",
    "# Convert list to array\n",
    "my_list = [1, 2, 3, 4, 5]\n",
    "arr_from_list = np.asarray(my_list)\n",
    "\n",
    "print(\"Array from list:\",arr_from_list)"
   ]
  },
  {
   "cell_type": "code",
   "execution_count": 63,
   "id": "b632ecdb-fb44-4290-85c7-dff24d8b4294",
   "metadata": {},
   "outputs": [
    {
     "name": "stdout",
     "output_type": "stream",
     "text": [
      "Array from bytes object: [b'h' b'e' b'l' b'l' b'o' b' ' b'w' b'o' b'r' b'l' b'd']\n"
     ]
    }
   ],
   "source": [
    "import numpy as np\n",
    "\n",
    "# Create bytes object\n",
    "my_bytes = b'hello world'\n",
    "\n",
    "# Create array from bytes object\n",
    "arr_from_bytes = np.frombuffer(my_bytes, dtype='S1')\n",
    "\n",
    "print(\"Array from bytes object:\",arr_from_bytes)"
   ]
  },
  {
   "cell_type": "code",
   "execution_count": 90,
   "id": "2fb7cc29-cb25-496a-b2b7-1c0e821a1aab",
   "metadata": {},
   "outputs": [
    {
     "name": "stdout",
     "output_type": "stream",
     "text": [
      "Array from generator: [ 7  8  9 10 11 12 13 14 15 16 17 18 19]\n"
     ]
    }
   ],
   "source": [
    "import numpy as np\n",
    "\n",
    "# Generator function that yields numbers\n",
    "def fn(n):\n",
    "   for i in range(n,20):\n",
    "      yield i\n",
    "\n",
    "# Create array from generator.\n",
    "gen_array = np.fromiter(fn(7), dtype=int)\n",
    "\n",
    "print(\"Array from generator:\",gen_array)"
   ]
  },
  {
   "cell_type": "code",
   "execution_count": 88,
   "id": "ec32d72c-74ef-47c2-b26e-221965ec5b2b",
   "metadata": {},
   "outputs": [
    {
     "name": "stdout",
     "output_type": "stream",
     "text": [
      "Array from nested list:\n",
      "[[1 2 3]\n",
      " [4 5 6]\n",
      " [7 8 9]]\n"
     ]
    }
   ],
   "source": [
    "import numpy as np\n",
    "\n",
    "# Convert nested list to array \n",
    "nested_list = [[1, 2, 3], [4, 5, 6], [7, 8, 9]]\n",
    "arr_from_nested_list = np.array(nested_list)\n",
    "\n",
    "print(\"Array from nested list:\")\n",
    "print(arr_from_nested_list)"
   ]
  },
  {
   "cell_type": "code",
   "execution_count": 92,
   "id": "3ba56a93-bc24-42ee-8e09-c8918af58f71",
   "metadata": {},
   "outputs": [
    {
     "name": "stdout",
     "output_type": "stream",
     "text": [
      "Original array: [1 2 3 4 5]\n",
      "Copied array: [1 2 3 4 5]\n"
     ]
    }
   ],
   "source": [
    "import numpy as np\n",
    "\n",
    "# Original array\n",
    "original_array = np.array([1, 2, 3, 4, 5])\n",
    "\n",
    "# Create a copy of the array\n",
    "copied_array = np.copy(original_array)\n",
    "\n",
    "print(\"Original array:\",original_array)\n",
    "print(\"Copied array:\",copied_array)"
   ]
  },
  {
   "cell_type": "code",
   "execution_count": 94,
   "id": "810d59a5-62ee-4cdd-9c80-eadc5ab4ad1c",
   "metadata": {},
   "outputs": [
    {
     "name": "stdout",
     "output_type": "stream",
     "text": [
      "Original array: [1 2 3 4 5 6]\n",
      "Reshaped array (2x3): [[1 2 3]\n",
      " [4 5 6]]\n"
     ]
    }
   ],
   "source": [
    "import numpy as np\n",
    "# Original array\n",
    "original_array = np.array([1, 2, 3, 4, 5, 6])\n",
    "\n",
    "# Reshape the array to 2x3\n",
    "reshaped_array = original_array.reshape((2, 3))\n",
    "\n",
    "print(\"Original array:\",original_array)\n",
    "print(\"Reshaped array (2x3):\",reshaped_array)"
   ]
  },
  {
   "cell_type": "code",
   "execution_count": 96,
   "id": "fabf17b1-c1ea-4d7f-8255-327d333d4e3a",
   "metadata": {},
   "outputs": [
    {
     "name": "stdout",
     "output_type": "stream",
     "text": [
      "1-D to 3-D Array (2x2x3):\n",
      "[[[ 1  2  3]\n",
      "  [ 4  5  6]]\n",
      "\n",
      " [[ 7  8  9]\n",
      "  [10 11 12]]]\n"
     ]
    }
   ],
   "source": [
    "import numpy as np\n",
    "\n",
    "# Original 1-D array\n",
    "arr = np.array([1, 2, 3, 4, 5, 6, 7, 8, 9, 10, 11, 12])\n",
    "\n",
    "# Reshape to 3-D array\n",
    "reshaped_arr = arr.reshape((2, 2, 3))\n",
    "print(\"1-D to 3-D Array (2x2x3):\")\n",
    "print(reshaped_arr)"
   ]
  },
  {
   "cell_type": "code",
   "execution_count": 98,
   "id": "d508d8cb-3b6f-467e-a4b3-84af43af6ecd",
   "metadata": {},
   "outputs": [
    {
     "name": "stdout",
     "output_type": "stream",
     "text": [
      "Reshaped Array: [1 2 3 4 5 6]\n"
     ]
    }
   ],
   "source": [
    "import numpy as np\n",
    "\n",
    "# Original 2-D array\n",
    "arr = np.array([[1, 2, 3], [4, 5, 6]])\n",
    "\n",
    "# Reshape to 1-D array\n",
    "reshaped_arr = arr.reshape(-1)\n",
    "print(\"Reshaped Array:\", reshaped_arr)"
   ]
  },
  {
   "cell_type": "code",
   "execution_count": 104,
   "id": "07e6fec4-f450-426b-b8ea-00d6bd688152",
   "metadata": {},
   "outputs": [
    {
     "name": "stdout",
     "output_type": "stream",
     "text": [
      "Concatenated Array along rows: [[ 1  2  3]\n",
      " [ 4  5  6]\n",
      " [ 7  8  9]\n",
      " [10 11 12]]\n"
     ]
    }
   ],
   "source": [
    "import numpy as np\n",
    "\n",
    "arr1 = np.array([[1, 2, 3],\n",
    "                 [4, 5, 6]])\n",
    "\n",
    "arr2 = np.array([[7, 8, 9],\n",
    "                 [10, 11, 12]])\n",
    "\n",
    "# Concatenate along rows\n",
    "concatenated_arr = np.concatenate((arr1, arr2), axis=0)\n",
    "print(\"Concatenated Array along rows:\",concatenated_arr)"
   ]
  },
  {
   "cell_type": "code",
   "execution_count": 112,
   "id": "0bccad47-9754-45ad-b97a-1a83d5aef981",
   "metadata": {},
   "outputs": [
    {
     "name": "stdout",
     "output_type": "stream",
     "text": [
      "Concatenated Array along columns:\n",
      "[[1 2 5 6]\n",
      " [3 4 7 0]]\n"
     ]
    }
   ],
   "source": [
    "import numpy as np\n",
    "\n",
    "# Create two arrays\n",
    "arr1 = np.array([[1, 2],\n",
    "                 [3, 4]])\n",
    "\n",
    "arr2 = np.array([[5, 6],\n",
    "                 [7, 0]])\n",
    "\n",
    "# Concatenate along columns \n",
    "concatenated_arr = np.concatenate((arr1, arr2), axis=1)\n",
    "print(\"Concatenated Array along columns:\")\n",
    "print(concatenated_arr)"
   ]
  },
  {
   "cell_type": "code",
   "execution_count": null,
   "id": "60594440-8d06-4556-bed6-a5a47653f424",
   "metadata": {},
   "outputs": [],
   "source": []
  }
 ],
 "metadata": {
  "kernelspec": {
   "display_name": "Python 3 (ipykernel)",
   "language": "python",
   "name": "python3"
  },
  "language_info": {
   "codemirror_mode": {
    "name": "ipython",
    "version": 3
   },
   "file_extension": ".py",
   "mimetype": "text/x-python",
   "name": "python",
   "nbconvert_exporter": "python",
   "pygments_lexer": "ipython3",
   "version": "3.12.4"
  }
 },
 "nbformat": 4,
 "nbformat_minor": 5
}
